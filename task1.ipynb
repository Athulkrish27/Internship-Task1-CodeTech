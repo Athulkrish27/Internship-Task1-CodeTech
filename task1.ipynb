{
  "nbformat": 4,
  "nbformat_minor": 0,
  "metadata": {
    "colab": {
      "provenance": []
    },
    "kernelspec": {
      "name": "python3",
      "display_name": "Python 3"
    },
    "language_info": {
      "name": "python"
    }
  },
  "cells": [
    {
      "cell_type": "code",
      "execution_count": null,
      "metadata": {
        "id": "Bt5QoLsEXVfS"
      },
      "outputs": [],
      "source": []
    },
    {
      "cell_type": "markdown",
      "source": [],
      "metadata": {
        "id": "SmeiT0xdXacZ"
      }
    },
    {
      "cell_type": "code",
      "source": [
        "!pip install pyspark"
      ],
      "metadata": {
        "colab": {
          "base_uri": "https://localhost:8080/"
        },
        "id": "OdWs6ffkXa2C",
        "outputId": "65605757-7585-4e63-9aa2-99bcd7fe4de0"
      },
      "execution_count": 1,
      "outputs": [
        {
          "output_type": "stream",
          "name": "stdout",
          "text": [
            "Requirement already satisfied: pyspark in /usr/local/lib/python3.11/dist-packages (3.5.1)\n",
            "Requirement already satisfied: py4j==0.10.9.7 in /usr/local/lib/python3.11/dist-packages (from pyspark) (0.10.9.7)\n"
          ]
        }
      ]
    },
    {
      "cell_type": "code",
      "source": [
        "from pyspark.sql import SparkSession\n",
        "\n",
        "spark = SparkSession.builder.appName(\"BigDataAnalysis\").getOrCreate()\n",
        "\n",
        "df = spark.read.csv(\"/airlines_flights_data.csv\", header=True, inferSchema=True)\n",
        "df.show()"
      ],
      "metadata": {
        "colab": {
          "base_uri": "https://localhost:8080/"
        },
        "id": "VijUiMBoXpI4",
        "outputId": "e5614e52-ed9f-4f24-ed55-43ea2937c0c7"
      },
      "execution_count": 5,
      "outputs": [
        {
          "output_type": "stream",
          "name": "stdout",
          "text": [
            "+-----+---------+-------+-----------+--------------+-----+-------------+----------------+-------+--------+---------+-----+\n",
            "|index|  airline| flight|source_city|departure_time|stops| arrival_time|destination_city|  class|duration|days_left|price|\n",
            "+-----+---------+-------+-----------+--------------+-----+-------------+----------------+-------+--------+---------+-----+\n",
            "|    0| SpiceJet|SG-8709|      Delhi|       Evening| zero|        Night|          Mumbai|Economy|    2.17|        1| 5953|\n",
            "|    1| SpiceJet|SG-8157|      Delhi| Early_Morning| zero|      Morning|          Mumbai|Economy|    2.33|        1| 5953|\n",
            "|    2|  AirAsia| I5-764|      Delhi| Early_Morning| zero|Early_Morning|          Mumbai|Economy|    2.17|        1| 5956|\n",
            "|    3|  Vistara| UK-995|      Delhi|       Morning| zero|    Afternoon|          Mumbai|Economy|    2.25|        1| 5955|\n",
            "|    4|  Vistara| UK-963|      Delhi|       Morning| zero|      Morning|          Mumbai|Economy|    2.33|        1| 5955|\n",
            "|    5|  Vistara| UK-945|      Delhi|       Morning| zero|    Afternoon|          Mumbai|Economy|    2.33|        1| 5955|\n",
            "|    6|  Vistara| UK-927|      Delhi|       Morning| zero|      Morning|          Mumbai|Economy|    2.08|        1| 6060|\n",
            "|    7|  Vistara| UK-951|      Delhi|     Afternoon| zero|      Evening|          Mumbai|Economy|    2.17|        1| 6060|\n",
            "|    8| GO_FIRST| G8-334|      Delhi| Early_Morning| zero|      Morning|          Mumbai|Economy|    2.17|        1| 5954|\n",
            "|    9| GO_FIRST| G8-336|      Delhi|     Afternoon| zero|      Evening|          Mumbai|Economy|    2.25|        1| 5954|\n",
            "|   10| GO_FIRST| G8-392|      Delhi|     Afternoon| zero|      Evening|          Mumbai|Economy|    2.25|        1| 5954|\n",
            "|   11| GO_FIRST| G8-338|      Delhi|       Morning| zero|    Afternoon|          Mumbai|Economy|    2.33|        1| 5954|\n",
            "|   12|   Indigo|6E-5001|      Delhi| Early_Morning| zero|      Morning|          Mumbai|Economy|    2.17|        1| 5955|\n",
            "|   13|   Indigo|6E-6202|      Delhi|       Morning| zero|    Afternoon|          Mumbai|Economy|    2.17|        1| 5955|\n",
            "|   14|   Indigo| 6E-549|      Delhi|     Afternoon| zero|      Evening|          Mumbai|Economy|    2.25|        1| 5955|\n",
            "|   15|   Indigo|6E-6278|      Delhi|       Morning| zero|      Morning|          Mumbai|Economy|    2.33|        1| 5955|\n",
            "|   16|Air_India| AI-887|      Delhi| Early_Morning| zero|      Morning|          Mumbai|Economy|    2.08|        1| 5955|\n",
            "|   17|Air_India| AI-665|      Delhi| Early_Morning| zero|      Morning|          Mumbai|Economy|    2.17|        1| 5955|\n",
            "|   18|  AirAsia| I5-747|      Delhi|       Evening|  one|Early_Morning|          Mumbai|Economy|   12.25|        1| 5949|\n",
            "|   19|  AirAsia| I5-747|      Delhi|       Evening|  one|      Morning|          Mumbai|Economy|   16.33|        1| 5949|\n",
            "+-----+---------+-------+-----------+--------------+-----+-------------+----------------+-------+--------+---------+-----+\n",
            "only showing top 20 rows\n",
            "\n"
          ]
        }
      ]
    },
    {
      "cell_type": "code",
      "source": [
        "from pyspark.sql import SparkSession\n",
        "from pyspark.sql.functions import avg\n",
        "\n",
        "spark = SparkSession.builder.appName(\"BigDataInternship\").getOrCreate()\n",
        "\n",
        "df = spark.read.csv(\"/airlines_flights_data.csv\", header=True, inferSchema=True)\n",
        "\n",
        "df.printSchema()\n",
        "df.show(5)\n",
        "df.describe().show()\n",
        "\n",
        "# Group by actual column\n",
        "df.groupBy(\"airline\").count().show()\n",
        "df.groupBy(\"class\").agg(avg(\"price\").alias(\"average_price\")).show()\n",
        "\n"
      ],
      "metadata": {
        "colab": {
          "base_uri": "https://localhost:8080/"
        },
        "id": "-ceTh_Kxf8Qv",
        "outputId": "10d1e9c5-e5fa-4e32-fc63-f91d5f5161a8"
      },
      "execution_count": 9,
      "outputs": [
        {
          "output_type": "stream",
          "name": "stdout",
          "text": [
            "root\n",
            " |-- index: integer (nullable = true)\n",
            " |-- airline: string (nullable = true)\n",
            " |-- flight: string (nullable = true)\n",
            " |-- source_city: string (nullable = true)\n",
            " |-- departure_time: string (nullable = true)\n",
            " |-- stops: string (nullable = true)\n",
            " |-- arrival_time: string (nullable = true)\n",
            " |-- destination_city: string (nullable = true)\n",
            " |-- class: string (nullable = true)\n",
            " |-- duration: double (nullable = true)\n",
            " |-- days_left: integer (nullable = true)\n",
            " |-- price: integer (nullable = true)\n",
            "\n",
            "+-----+--------+-------+-----------+--------------+-----+-------------+----------------+-------+--------+---------+-----+\n",
            "|index| airline| flight|source_city|departure_time|stops| arrival_time|destination_city|  class|duration|days_left|price|\n",
            "+-----+--------+-------+-----------+--------------+-----+-------------+----------------+-------+--------+---------+-----+\n",
            "|    0|SpiceJet|SG-8709|      Delhi|       Evening| zero|        Night|          Mumbai|Economy|    2.17|        1| 5953|\n",
            "|    1|SpiceJet|SG-8157|      Delhi| Early_Morning| zero|      Morning|          Mumbai|Economy|    2.33|        1| 5953|\n",
            "|    2| AirAsia| I5-764|      Delhi| Early_Morning| zero|Early_Morning|          Mumbai|Economy|    2.17|        1| 5956|\n",
            "|    3| Vistara| UK-995|      Delhi|       Morning| zero|    Afternoon|          Mumbai|Economy|    2.25|        1| 5955|\n",
            "|    4| Vistara| UK-963|      Delhi|       Morning| zero|      Morning|          Mumbai|Economy|    2.33|        1| 5955|\n",
            "+-----+--------+-------+-----------+--------------+-----+-------------+----------------+-------+--------+---------+-----+\n",
            "only showing top 5 rows\n",
            "\n",
            "+-------+-----------------+-------+--------------------+-----------+--------------+------+------------+----------------+--------+------------------+------------------+------------------+\n",
            "|summary|            index|airline|              flight|source_city|departure_time| stops|arrival_time|destination_city|   class|          duration|         days_left|             price|\n",
            "+-------+-----------------+-------+--------------------+-----------+--------------+------+------------+----------------+--------+------------------+------------------+------------------+\n",
            "|  count|           300153| 300153|              300153|     300153|        300153|300153|      300153|          300153|  300153|            300153|            300153|            300153|\n",
            "|   mean|         150076.0|   NULL|5.427411873908629...|       NULL|          NULL|  NULL|        NULL|            NULL|    NULL|12.221020812717907|26.004750910369044|20889.660523133203|\n",
            "| stddev|86646.85201148395|   NULL|1.803651814074487...|       NULL|          NULL|  NULL|        NULL|            NULL|    NULL| 7.191997238118947|13.561003687093491| 22697.76736607446|\n",
            "|    min|                0|AirAsia|            0.00E+00|  Bangalore|     Afternoon|   one|   Afternoon|       Bangalore|Business|              0.83|                 1|              1105|\n",
            "|    max|           300152|Vistara|              UK-996|     Mumbai|         Night|  zero|       Night|          Mumbai| Economy|             49.83|                49|            123071|\n",
            "+-------+-----------------+-------+--------------------+-----------+--------------+------+------------+----------------+--------+------------------+------------------+------------------+\n",
            "\n",
            "+---------+------+\n",
            "|  airline| count|\n",
            "+---------+------+\n",
            "|   Indigo| 43120|\n",
            "| SpiceJet|  9011|\n",
            "|Air_India| 80892|\n",
            "|  AirAsia| 16098|\n",
            "| GO_FIRST| 23173|\n",
            "|  Vistara|127859|\n",
            "+---------+------+\n",
            "\n",
            "+--------+-----------------+\n",
            "|   class|    average_price|\n",
            "+--------+-----------------+\n",
            "| Economy|6572.342383362527|\n",
            "|Business|52540.08112357868|\n",
            "+--------+-----------------+\n",
            "\n"
          ]
        }
      ]
    }
  ]
}